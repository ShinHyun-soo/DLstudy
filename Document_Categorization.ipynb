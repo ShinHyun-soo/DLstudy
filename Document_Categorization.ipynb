{
  "nbformat": 4,
  "nbformat_minor": 0,
  "metadata": {
    "colab": {
      "provenance": [],
      "authorship_tag": "ABX9TyNeIwKBv3kO4L+07bAQG1uI",
      "include_colab_link": true
    },
    "kernelspec": {
      "name": "python3",
      "display_name": "Python 3"
    },
    "language_info": {
      "name": "python"
    },
    "accelerator": "GPU",
    "gpuClass": "standard"
  },
  "cells": [
    {
      "cell_type": "markdown",
      "metadata": {
        "id": "view-in-github",
        "colab_type": "text"
      },
      "source": [
        "<a href=\"https://colab.research.google.com/github/ShinHyun-soo/DLstudy/blob/main/Document_Categorization.ipynb\" target=\"_parent\"><img src=\"https://colab.research.google.com/assets/colab-badge.svg\" alt=\"Open In Colab\"/></a>"
      ]
    },
    {
      "cell_type": "code",
      "execution_count": null,
      "metadata": {
        "id": "F-pUecrflFdG",
        "colab": {
          "base_uri": "https://localhost:8080/"
        },
        "outputId": "9a2a7aaf-85b4-4a4e-8a59-8e18c023fd93"
      },
      "outputs": [
        {
          "output_type": "stream",
          "name": "stdout",
          "text": [
            "Downloading data from https://storage.googleapis.com/tensorflow/tf-keras-datasets/reuters.npz\n",
            "2110848/2110848 [==============================] - 0s 0us/step\n",
            "x_train 길이: 8982\n",
            "x_test 길이: 2246\n"
          ]
        }
      ],
      "source": [
        "import numpy as np\n",
        "import keras\n",
        "from keras.datasets import reuters\n",
        "from keras.models import Model\n",
        "from keras.layers import Input, Dense, Dropout, Activation\n",
        "\n",
        "import matplotlib.pyplot as plt\n",
        "\n",
        "(x_train, y_train), (x_test, y_test) = reuters.load_data(num_words=100, test_split=0.2)\n",
        "print('x_train 길이:', len(x_train))\n",
        "print('x_test 길이:', len(x_test))"
      ]
    },
    {
      "cell_type": "code",
      "source": [
        "print(x_train[0])"
      ],
      "metadata": {
        "colab": {
          "base_uri": "https://localhost:8080/"
        },
        "id": "8gI3hNA2mo41",
        "outputId": "53cb4bfe-b881-493a-d077-ed6cadb76382"
      },
      "execution_count": null,
      "outputs": [
        {
          "output_type": "stream",
          "name": "stdout",
          "text": [
            "[1, 2, 2, 8, 43, 10, 2, 5, 25, 2, 2, 5, 2, 2, 16, 2, 2, 90, 67, 7, 89, 5, 19, 2, 6, 19, 2, 15, 90, 67, 84, 22, 2, 26, 7, 48, 4, 49, 8, 2, 39, 2, 2, 6, 2, 6, 83, 11, 15, 22, 2, 11, 15, 7, 48, 9, 2, 2, 2, 6, 2, 6, 2, 11, 15, 22, 2, 44, 11, 15, 16, 8, 2, 2, 90, 67, 52, 29, 2, 30, 32, 2, 6, 2, 15, 17, 12]\n"
          ]
        }
      ]
    },
    {
      "cell_type": "code",
      "source": [
        "reuters_word_idx = reuters.get_word_index()\n",
        "print( 'vocab 길이:', len(reuters_word_idx.values()))"
      ],
      "metadata": {
        "colab": {
          "base_uri": "https://localhost:8080/"
        },
        "id": "jJDq5nY2nVj2",
        "outputId": "12389488-34e4-45f1-e1d2-922960bf0aca"
      },
      "execution_count": null,
      "outputs": [
        {
          "output_type": "stream",
          "name": "stdout",
          "text": [
            "Downloading data from https://storage.googleapis.com/tensorflow/tf-keras-datasets/reuters_word_index.json\n",
            "550378/550378 [==============================] - 0s 0us/step\n",
            "vocab 길이: 30979\n"
          ]
        }
      ]
    },
    {
      "cell_type": "code",
      "source": [
        "r_word_idx = dict([(value, key) for (key, value) in\n",
        "                   reuters_word_idx.items()])\n",
        "for i in range(1, 6):\n",
        "  print( r_word_idx[i] )"
      ],
      "metadata": {
        "colab": {
          "base_uri": "https://localhost:8080/"
        },
        "id": "AEjQEzF3nrIx",
        "outputId": "3075aa00-0507-4de3-ef84-5bd5c9117398"
      },
      "execution_count": null,
      "outputs": [
        {
          "output_type": "stream",
          "name": "stdout",
          "text": [
            "the\n",
            "of\n",
            "to\n",
            "in\n",
            "said\n"
          ]
        }
      ]
    },
    {
      "cell_type": "code",
      "source": [
        "for key in x_train[0]:\n",
        "  print( r_word_idx[key], end=' ' )"
      ],
      "metadata": {
        "colab": {
          "base_uri": "https://localhost:8080/"
        },
        "id": "xPFP5kWroLKh",
        "outputId": "7fdfdd42-974c-4fa7-9606-33e0da9fdb89"
      },
      "execution_count": null,
      "outputs": [
        {
          "output_type": "stream",
          "name": "stdout",
          "text": [
            "the of of mln loss for of said at of of said of of 1 of of april 0 a after said from of and from of 000 april 0 prices its of year a but in this mln of an of of and of and revs vs 000 its of vs 000 a but 3 of of of and of and of vs 000 its of 4 vs 000 1 mln of of april 0 are 2 of will billion of and of 000 pct dlrs "
          ]
        }
      ]
    },
    {
      "cell_type": "code",
      "source": [
        "from keras.utils.np_utils import to_categorical\n",
        "\n",
        "y_train_onehot = to_categorical(y_train)\n",
        "y_test_onehot = to_categorical(y_test)\n",
        "\n",
        "print( y_train[0] )\n",
        "print( y_train_onehot[0] )"
      ],
      "metadata": {
        "colab": {
          "base_uri": "https://localhost:8080/"
        },
        "id": "qd2BzI2_oU_h",
        "outputId": "a8cf4e0e-d3cf-41d6-c1f8-560e76804992"
      },
      "execution_count": null,
      "outputs": [
        {
          "output_type": "stream",
          "name": "stdout",
          "text": [
            "3\n",
            "[0. 0. 0. 1. 0. 0. 0. 0. 0. 0. 0. 0. 0. 0. 0. 0. 0. 0. 0. 0. 0. 0. 0. 0.\n",
            " 0. 0. 0. 0. 0. 0. 0. 0. 0. 0. 0. 0. 0. 0. 0. 0. 0. 0. 0. 0. 0. 0.]\n"
          ]
        }
      ]
    },
    {
      "cell_type": "code",
      "source": [
        "def vectorize_sequences(sequences, dimension=100):\n",
        "  results = np.zeros((len(sequences), dimension))\n",
        "  for i, sequence in enumerate(sequences):\n",
        "    results[i, sequence] = 1.\n",
        "  return results"
      ],
      "metadata": {
        "id": "HcbYRs8iovsr"
      },
      "execution_count": null,
      "outputs": []
    },
    {
      "cell_type": "code",
      "source": [
        "x_train_vec = vectorize_sequences(x_train)\n",
        "x_test_vec = vectorize_sequences(x_test)\n",
        "\n",
        "print( x_train[0] )\n",
        "print( x_train_vec[0] )"
      ],
      "metadata": {
        "colab": {
          "base_uri": "https://localhost:8080/"
        },
        "id": "OjHpBEncpVGC",
        "outputId": "f152912d-04c7-492b-d620-2ef434376d8c"
      },
      "execution_count": null,
      "outputs": [
        {
          "output_type": "stream",
          "name": "stdout",
          "text": [
            "[1, 2, 2, 8, 43, 10, 2, 5, 25, 2, 2, 5, 2, 2, 16, 2, 2, 90, 67, 7, 89, 5, 19, 2, 6, 19, 2, 15, 90, 67, 84, 22, 2, 26, 7, 48, 4, 49, 8, 2, 39, 2, 2, 6, 2, 6, 83, 11, 15, 22, 2, 11, 15, 7, 48, 9, 2, 2, 2, 6, 2, 6, 2, 11, 15, 22, 2, 44, 11, 15, 16, 8, 2, 2, 90, 67, 52, 29, 2, 30, 32, 2, 6, 2, 15, 17, 12]\n",
            "[0. 1. 1. 0. 1. 1. 1. 1. 1. 1. 1. 1. 1. 0. 0. 1. 1. 1. 0. 1. 0. 0. 1. 0.\n",
            " 0. 1. 1. 0. 0. 1. 1. 0. 1. 0. 0. 0. 0. 0. 0. 1. 0. 0. 0. 1. 1. 0. 0. 0.\n",
            " 1. 1. 0. 0. 1. 0. 0. 0. 0. 0. 0. 0. 0. 0. 0. 0. 0. 0. 0. 1. 0. 0. 0. 0.\n",
            " 0. 0. 0. 0. 0. 0. 0. 0. 0. 0. 0. 1. 1. 0. 0. 0. 0. 1. 1. 0. 0. 0. 0. 0.\n",
            " 0. 0. 0. 0.]\n"
          ]
        }
      ]
    },
    {
      "cell_type": "code",
      "source": [
        "inputs = Input(shape=(100,))\n",
        "outputs = Dense(46, activation='softmax')(inputs)\n",
        "model_v1 = Model(inputs=inputs, outputs=outputs)\n",
        "\n",
        "model_v1.compile(loss='categorical_crossentropy',\n",
        "                 optimizer='rmsprop',\n",
        "                 metrics=['accuracy'])"
      ],
      "metadata": {
        "id": "F2zlWDBArXZF"
      },
      "execution_count": null,
      "outputs": []
    },
    {
      "cell_type": "code",
      "source": [
        "history_1 = model_v1.fit(x_train_vec, y_train_onehot,\n",
        "                         batch_size=32,\n",
        "                         epochs=30,\n",
        "                         verbose=1,\n",
        "                         validation_split=0.1)"
      ],
      "metadata": {
        "colab": {
          "base_uri": "https://localhost:8080/"
        },
        "id": "eNjPDIR6sOnU",
        "outputId": "bd9b1ece-5367-4e98-9098-6cf2997cd172"
      },
      "execution_count": null,
      "outputs": [
        {
          "output_type": "stream",
          "name": "stdout",
          "text": [
            "Epoch 1/30\n",
            "253/253 [==============================] - 5s 6ms/step - loss: 2.4333 - accuracy: 0.4324 - val_loss: 2.0044 - val_accuracy: 0.5284\n",
            "Epoch 2/30\n",
            "253/253 [==============================] - 1s 3ms/step - loss: 1.7539 - accuracy: 0.5735 - val_loss: 1.7614 - val_accuracy: 0.6073\n",
            "Epoch 3/30\n",
            "253/253 [==============================] - 1s 5ms/step - loss: 1.5629 - accuracy: 0.6172 - val_loss: 1.6412 - val_accuracy: 0.6363\n",
            "Epoch 4/30\n",
            "253/253 [==============================] - 1s 5ms/step - loss: 1.4522 - accuracy: 0.6465 - val_loss: 1.5709 - val_accuracy: 0.6496\n",
            "Epoch 5/30\n",
            "253/253 [==============================] - 1s 6ms/step - loss: 1.3729 - accuracy: 0.6697 - val_loss: 1.5256 - val_accuracy: 0.6541\n",
            "Epoch 6/30\n",
            "253/253 [==============================] - 1s 5ms/step - loss: 1.3187 - accuracy: 0.6818 - val_loss: 1.4912 - val_accuracy: 0.6607\n",
            "Epoch 7/30\n",
            "253/253 [==============================] - 1s 5ms/step - loss: 1.2763 - accuracy: 0.6886 - val_loss: 1.4700 - val_accuracy: 0.6707\n",
            "Epoch 8/30\n",
            "253/253 [==============================] - 1s 5ms/step - loss: 1.2435 - accuracy: 0.6975 - val_loss: 1.4544 - val_accuracy: 0.6730\n",
            "Epoch 9/30\n",
            "253/253 [==============================] - 2s 7ms/step - loss: 1.2162 - accuracy: 0.7043 - val_loss: 1.4384 - val_accuracy: 0.6741\n",
            "Epoch 10/30\n",
            "253/253 [==============================] - 2s 8ms/step - loss: 1.1938 - accuracy: 0.7064 - val_loss: 1.4291 - val_accuracy: 0.6696\n",
            "Epoch 11/30\n",
            "253/253 [==============================] - 2s 6ms/step - loss: 1.1769 - accuracy: 0.7145 - val_loss: 1.4262 - val_accuracy: 0.6785\n",
            "Epoch 12/30\n",
            "253/253 [==============================] - 1s 5ms/step - loss: 1.1601 - accuracy: 0.7157 - val_loss: 1.4254 - val_accuracy: 0.6841\n",
            "Epoch 13/30\n",
            "253/253 [==============================] - 1s 5ms/step - loss: 1.1477 - accuracy: 0.7182 - val_loss: 1.4164 - val_accuracy: 0.6819\n",
            "Epoch 14/30\n",
            "253/253 [==============================] - 1s 5ms/step - loss: 1.1329 - accuracy: 0.7223 - val_loss: 1.4172 - val_accuracy: 0.6808\n",
            "Epoch 15/30\n",
            "253/253 [==============================] - 1s 4ms/step - loss: 1.1238 - accuracy: 0.7229 - val_loss: 1.4101 - val_accuracy: 0.6819\n",
            "Epoch 16/30\n",
            "253/253 [==============================] - 1s 3ms/step - loss: 1.1133 - accuracy: 0.7234 - val_loss: 1.4070 - val_accuracy: 0.6796\n",
            "Epoch 17/30\n",
            "253/253 [==============================] - 1s 3ms/step - loss: 1.1063 - accuracy: 0.7273 - val_loss: 1.4084 - val_accuracy: 0.6852\n",
            "Epoch 18/30\n",
            "253/253 [==============================] - 1s 3ms/step - loss: 1.0978 - accuracy: 0.7297 - val_loss: 1.4165 - val_accuracy: 0.6874\n",
            "Epoch 19/30\n",
            "253/253 [==============================] - 1s 3ms/step - loss: 1.0928 - accuracy: 0.7291 - val_loss: 1.4109 - val_accuracy: 0.6819\n",
            "Epoch 20/30\n",
            "253/253 [==============================] - 1s 3ms/step - loss: 1.0852 - accuracy: 0.7294 - val_loss: 1.4094 - val_accuracy: 0.6852\n",
            "Epoch 21/30\n",
            "253/253 [==============================] - 1s 4ms/step - loss: 1.0804 - accuracy: 0.7323 - val_loss: 1.4103 - val_accuracy: 0.6863\n",
            "Epoch 22/30\n",
            "253/253 [==============================] - 1s 4ms/step - loss: 1.0733 - accuracy: 0.7322 - val_loss: 1.4154 - val_accuracy: 0.6897\n",
            "Epoch 23/30\n",
            "253/253 [==============================] - 1s 3ms/step - loss: 1.0684 - accuracy: 0.7356 - val_loss: 1.4209 - val_accuracy: 0.6874\n",
            "Epoch 24/30\n",
            "253/253 [==============================] - 1s 3ms/step - loss: 1.0628 - accuracy: 0.7354 - val_loss: 1.4205 - val_accuracy: 0.6852\n",
            "Epoch 25/30\n",
            "253/253 [==============================] - 1s 3ms/step - loss: 1.0618 - accuracy: 0.7346 - val_loss: 1.4161 - val_accuracy: 0.6852\n",
            "Epoch 26/30\n",
            "253/253 [==============================] - 1s 3ms/step - loss: 1.0584 - accuracy: 0.7350 - val_loss: 1.4183 - val_accuracy: 0.6819\n",
            "Epoch 27/30\n",
            "253/253 [==============================] - 1s 3ms/step - loss: 1.0540 - accuracy: 0.7387 - val_loss: 1.4175 - val_accuracy: 0.6852\n",
            "Epoch 28/30\n",
            "253/253 [==============================] - 1s 4ms/step - loss: 1.0515 - accuracy: 0.7378 - val_loss: 1.4184 - val_accuracy: 0.6874\n",
            "Epoch 29/30\n",
            "253/253 [==============================] - 1s 4ms/step - loss: 1.0476 - accuracy: 0.7395 - val_loss: 1.4226 - val_accuracy: 0.6841\n",
            "Epoch 30/30\n",
            "253/253 [==============================] - 1s 4ms/step - loss: 1.0440 - accuracy: 0.7375 - val_loss: 1.4237 - val_accuracy: 0.6830\n"
          ]
        }
      ]
    },
    {
      "cell_type": "code",
      "source": [
        "plt.figure(figsize=(7, 7), dpi = 80, facecolor='w', edgecolor='k')\n",
        "plt.plot(history_1.history['accuracy'], '-', linewidth=2)\n",
        "plt.plot(history_1.history['val_accuracy'], '-.', linewidth=2)\n",
        "plt.ylabel('accuracy')\n",
        "plt.xlabel('epoch')\n",
        "plt.legend(['train', 'test'], loc='upper left')\n",
        "plt.show()\n",
        "\n",
        "plt.figure(figsize=(7, 7), dpi= 80, facecolor='w', edgecolor='k')\n",
        "plt.plot(history_1.history['loss'], '-', linewidth=2)\n",
        "plt.plot(history_1.history['val_loss'], '-.', linewidth=2)\n",
        "plt.title('model loss')\n",
        "plt.ylabel('loss')\n",
        "plt.xlabel('epoch')\n",
        "plt.legend(['train', 'test'], loc='upper left')\n",
        "plt.show()"
      ],
      "metadata": {
        "colab": {
          "base_uri": "https://localhost:8080/",
          "height": 975
        },
        "id": "6sFhiJjfsmJE",
        "outputId": "06bc1363-cd48-4ba1-a37c-e1efaf920a38"
      },
      "execution_count": null,
      "outputs": [
        {
          "output_type": "display_data",
          "data": {
            "text/plain": [
              "<Figure size 560x560 with 1 Axes>"
            ],
            "image/png": "[encoded data removed]"
          },
          "metadata": {}
        },
        {
          "output_type": "display_data",
          "data": {
            "text/plain": [
              "<Figure size 560x560 with 1 Axes>"
            ],
            "image/png": "[encoded data removed]"
          },
          "metadata": {}
        }
      ]
    },
    {
      "cell_type": "code",
      "source": [
        "score_1 = model_v1.evaluate(x_test_vec, y_test_onehot,\n",
        "                            batch_size=32, verbose=1)\n",
        "print('Test score:', score_1[0])\n",
        "print('Test accuracy:', score_1[1])"
      ],
      "metadata": {
        "colab": {
          "base_uri": "https://localhost:8080/"
        },
        "id": "Ma1oFWSovWCI",
        "outputId": "e2e6e453-d394-426f-effe-d19530646764"
      },
      "execution_count": null,
      "outputs": [
        {
          "output_type": "stream",
          "name": "stdout",
          "text": [
            "71/71 [==============================] - 0s 2ms/step - loss: 1.3852 - accuracy: 0.6866\n",
            "Test score: 1.3851975202560425\n",
            "Test accuracy: 0.6865538954734802\n"
          ]
        }
      ]
    },
    {
      "cell_type": "code",
      "source": [
        "def get_model_v2(input_shape):\n",
        "  inputs = Input(shape=(input_shape,))\n",
        "  hidden1 = Dense(256, activation='relu')(inputs)\n",
        "  dropout = Dropout(0.5)(hidden1)\n",
        "  outputs = Dense(46, activation='softmax')(dropout)\n",
        "  model = Model(inputs=inputs, outputs=outputs)\n",
        "\n",
        "  return model"
      ],
      "metadata": {
        "id": "yguId1-qvyfi"
      },
      "execution_count": null,
      "outputs": []
    },
    {
      "cell_type": "code",
      "source": [
        "model_v2 = get_model_v2(input_shape=100)\n",
        "model_v2.compile(loss='categorical_crossentropy',\n",
        "                 optimizer='adam',\n",
        "                 metrics=['accuracy'])\n",
        "history_2 = model_v2.fit(x_train_vec, y_train_onehot,\n",
        "                         batch_size=32,\n",
        "                         epochs=30,\n",
        "                         verbose=1,\n",
        "                         validation_split=0.1)"
      ],
      "metadata": {
        "colab": {
          "base_uri": "https://localhost:8080/"
        },
        "id": "tDzTg3kwxHMZ",
        "outputId": "42adc277-1813-4e18-cac7-f38dcb52ac45"
      },
      "execution_count": null,
      "outputs": [
        {
          "output_type": "stream",
          "name": "stdout",
          "text": [
            "Epoch 1/30\n",
            "253/253 [==============================] - 3s 5ms/step - loss: 1.8905 - accuracy: 0.5442 - val_loss: 1.5421 - val_accuracy: 0.6529\n",
            "Epoch 2/30\n",
            "253/253 [==============================] - 1s 3ms/step - loss: 1.4464 - accuracy: 0.6484 - val_loss: 1.4166 - val_accuracy: 0.6685\n",
            "Epoch 3/30\n",
            "253/253 [==============================] - 1s 3ms/step - loss: 1.3135 - accuracy: 0.6720 - val_loss: 1.3614 - val_accuracy: 0.6819\n",
            "Epoch 4/30\n",
            "253/253 [==============================] - 1s 3ms/step - loss: 1.2471 - accuracy: 0.6867 - val_loss: 1.3350 - val_accuracy: 0.6863\n",
            "Epoch 5/30\n",
            "253/253 [==============================] - 1s 3ms/step - loss: 1.1908 - accuracy: 0.6979 - val_loss: 1.2997 - val_accuracy: 0.6952\n",
            "Epoch 6/30\n",
            "253/253 [==============================] - 1s 3ms/step - loss: 1.1493 - accuracy: 0.7033 - val_loss: 1.2903 - val_accuracy: 0.7008\n",
            "Epoch 7/30\n",
            "253/253 [==============================] - 1s 4ms/step - loss: 1.1152 - accuracy: 0.7143 - val_loss: 1.2783 - val_accuracy: 0.7030\n",
            "Epoch 8/30\n",
            "253/253 [==============================] - 1s 3ms/step - loss: 1.0958 - accuracy: 0.7205 - val_loss: 1.2711 - val_accuracy: 0.6974\n",
            "Epoch 9/30\n",
            "253/253 [==============================] - 1s 3ms/step - loss: 1.0633 - accuracy: 0.7256 - val_loss: 1.2842 - val_accuracy: 0.6874\n",
            "Epoch 10/30\n",
            "253/253 [==============================] - 1s 3ms/step - loss: 1.0346 - accuracy: 0.7301 - val_loss: 1.2835 - val_accuracy: 0.6919\n",
            "Epoch 11/30\n",
            "253/253 [==============================] - 1s 3ms/step - loss: 1.0103 - accuracy: 0.7359 - val_loss: 1.2649 - val_accuracy: 0.7052\n",
            "Epoch 12/30\n",
            "253/253 [==============================] - 1s 3ms/step - loss: 0.9993 - accuracy: 0.7390 - val_loss: 1.2775 - val_accuracy: 0.6986\n",
            "Epoch 13/30\n",
            "253/253 [==============================] - 1s 4ms/step - loss: 0.9674 - accuracy: 0.7408 - val_loss: 1.2636 - val_accuracy: 0.7086\n",
            "Epoch 14/30\n",
            "253/253 [==============================] - 1s 5ms/step - loss: 0.9515 - accuracy: 0.7451 - val_loss: 1.2679 - val_accuracy: 0.7030\n",
            "Epoch 15/30\n",
            "253/253 [==============================] - 1s 4ms/step - loss: 0.9246 - accuracy: 0.7539 - val_loss: 1.2605 - val_accuracy: 0.7030\n",
            "Epoch 16/30\n",
            "253/253 [==============================] - 1s 3ms/step - loss: 0.9222 - accuracy: 0.7532 - val_loss: 1.2679 - val_accuracy: 0.6997\n",
            "Epoch 17/30\n",
            "253/253 [==============================] - 1s 3ms/step - loss: 0.8976 - accuracy: 0.7574 - val_loss: 1.2609 - val_accuracy: 0.7052\n",
            "Epoch 18/30\n",
            "253/253 [==============================] - 1s 3ms/step - loss: 0.8895 - accuracy: 0.7586 - val_loss: 1.2604 - val_accuracy: 0.7075\n",
            "Epoch 19/30\n",
            "253/253 [==============================] - 1s 3ms/step - loss: 0.8638 - accuracy: 0.7658 - val_loss: 1.2793 - val_accuracy: 0.6986\n",
            "Epoch 20/30\n",
            "253/253 [==============================] - 1s 3ms/step - loss: 0.8543 - accuracy: 0.7693 - val_loss: 1.2901 - val_accuracy: 0.6997\n",
            "Epoch 21/30\n",
            "253/253 [==============================] - 1s 3ms/step - loss: 0.8481 - accuracy: 0.7696 - val_loss: 1.2884 - val_accuracy: 0.7086\n",
            "Epoch 22/30\n",
            "253/253 [==============================] - 1s 3ms/step - loss: 0.8236 - accuracy: 0.7688 - val_loss: 1.2788 - val_accuracy: 0.7052\n",
            "Epoch 23/30\n",
            "253/253 [==============================] - 1s 3ms/step - loss: 0.8031 - accuracy: 0.7821 - val_loss: 1.2841 - val_accuracy: 0.7030\n",
            "Epoch 24/30\n",
            "253/253 [==============================] - 1s 3ms/step - loss: 0.7904 - accuracy: 0.7763 - val_loss: 1.2804 - val_accuracy: 0.7008\n",
            "Epoch 25/30\n",
            "253/253 [==============================] - 1s 3ms/step - loss: 0.7773 - accuracy: 0.7829 - val_loss: 1.3179 - val_accuracy: 0.6952\n",
            "Epoch 26/30\n",
            "253/253 [==============================] - 1s 3ms/step - loss: 0.7731 - accuracy: 0.7805 - val_loss: 1.3205 - val_accuracy: 0.7008\n",
            "Epoch 27/30\n",
            "253/253 [==============================] - 1s 4ms/step - loss: 0.7565 - accuracy: 0.7851 - val_loss: 1.3185 - val_accuracy: 0.7008\n",
            "Epoch 28/30\n",
            "253/253 [==============================] - 1s 5ms/step - loss: 0.7471 - accuracy: 0.7904 - val_loss: 1.3351 - val_accuracy: 0.7008\n",
            "Epoch 29/30\n",
            "253/253 [==============================] - 1s 4ms/step - loss: 0.7349 - accuracy: 0.7861 - val_loss: 1.3260 - val_accuracy: 0.7086\n",
            "Epoch 30/30\n",
            "253/253 [==============================] - 1s 3ms/step - loss: 0.7332 - accuracy: 0.7936 - val_loss: 1.3298 - val_accuracy: 0.7008\n"
          ]
        }
      ]
    },
    {
      "cell_type": "code",
      "source": [
        "plt.figure(figsize=(7, 7), dpi = 80, facecolor='w', edgecolor='k')\n",
        "plt.plot(history_2.history['accuracy'], '-', linewidth=2)\n",
        "plt.plot(history_2.history['val_accuracy'], '-.', linewidth=2)\n",
        "plt.ylabel('accuracy')\n",
        "plt.xlabel('epoch')\n",
        "plt.legend(['train', 'test'], loc='upper left')\n",
        "plt.show()\n",
        "\n",
        "plt.figure(figsize=(7, 7), dpi= 80, facecolor='w', edgecolor='k')\n",
        "plt.plot(history_2.history['loss'], '-', linewidth=2)\n",
        "plt.plot(history_2.history['val_loss'], '-.', linewidth=2)\n",
        "plt.title('model loss')\n",
        "plt.ylabel('loss')\n",
        "plt.xlabel('epoch')\n",
        "plt.legend(['train', 'test'], loc='upper left')\n",
        "plt.show()"
      ],
      "metadata": {
        "colab": {
          "base_uri": "https://localhost:8080/",
          "height": 975
        },
        "id": "4t9L5YF_xleW",
        "outputId": "fde7d2d3-ec21-4297-d913-025f09ca3d98"
      },
      "execution_count": null,
      "outputs": [
        {
          "output_type": "display_data",
          "data": {
            "text/plain": [
              "<Figure size 560x560 with 1 Axes>"
            ],
            "image/png": "[encoded data removed]"
          },
          "metadata": {}
        },
        {
          "output_type": "display_data",
          "data": {
            "text/plain": [
              "<Figure size 560x560 with 1 Axes>"
            ],
            "image/png": "[encoded data removed]"
          },
          "metadata": {}
        }
      ]
    },
    {
      "cell_type": "code",
      "source": [
        "score_2 = model_v2.evaluate(x_test_vec, y_test_onehot,\n",
        "                            batch_size=32, verbose=1)\n",
        "print('Test score:', score_2[0])\n",
        "print('Test accuracy:', score_2[1])"
      ],
      "metadata": {
        "colab": {
          "base_uri": "https://localhost:8080/"
        },
        "id": "PzEiy2Idx5U4",
        "outputId": "617aa661-7d3f-484a-e496-d6e32a0f0913"
      },
      "execution_count": null,
      "outputs": [
        {
          "output_type": "stream",
          "name": "stdout",
          "text": [
            "71/71 [==============================] - 0s 2ms/step - loss: 1.3005 - accuracy: 0.7004\n",
            "Test score: 1.3004940748214722\n",
            "Test accuracy: 0.7003561854362488\n"
          ]
        }
      ]
    },
    {
      "cell_type": "code",
      "source": [
        "max_words = 10000\n",
        "batch_size = 32\n",
        "epochs = 30\n",
        "\n",
        "(x_train, y_train), (x_test, y_test) = reuters.load_data(num_words=max_words, test_split=0.2)\n",
        "\n",
        "y_train_onehot = to_categorical(y_train)\n",
        "y_test_onehot = to_categorical(y_test)\n",
        "\n",
        "x_train_vec = vectorize_sequences(x_train,\n",
        "                                  dimension=max_words)\n",
        "x_test_vec = vectorize_sequences(x_test, dimension=max_words)\n",
        "\n",
        "model_v2 = get_model_v2(max_words)\n",
        "model_v2.compile(loss='categorical_crossentropy',\n",
        "                 optimizer='adam',\n",
        "                 metrics=['accuracy'])\n",
        "model_v2.summary()\n",
        "\n",
        "history_2_2 = model_v2.fit(x_train_vec, y_train_onehot,\n",
        "                           batch_size=batch_size,\n",
        "                           epochs=epochs,\n",
        "                           verbose=1,\n",
        "                           validation_split=0.1)"
      ],
      "metadata": {
        "colab": {
          "base_uri": "https://localhost:8080/"
        },
        "id": "zKBYSJV9vQe_",
        "outputId": "117c135e-b89d-4fa8-9b16-d78015413dea"
      },
      "execution_count": null,
      "outputs": [
        {
          "output_type": "stream",
          "name": "stdout",
          "text": [
            "Model: \"model_2\"\n",
            "_________________________________________________________________\n",
            " Layer (type)                Output Shape              Param #   \n",
            "=================================================================\n",
            " input_3 (InputLayer)        [(None, 10000)]           0         \n",
            "                                                                 \n",
            " dense_3 (Dense)             (None, 256)               2560256   \n",
            "                                                                 \n",
            " dropout_1 (Dropout)         (None, 256)               0         \n",
            "                                                                 \n",
            " dense_4 (Dense)             (None, 46)                11822     \n",
            "                                                                 \n",
            "=================================================================\n",
            "Total params: 2,572,078\n",
            "Trainable params: 2,572,078\n",
            "Non-trainable params: 0\n",
            "_________________________________________________________________\n",
            "Epoch 1/30\n",
            "253/253 [==============================] - 3s 6ms/step - loss: 1.4197 - accuracy: 0.6940 - val_loss: 1.0199 - val_accuracy: 0.7786\n",
            "Epoch 2/30\n",
            "253/253 [==============================] - 1s 4ms/step - loss: 0.6119 - accuracy: 0.8628 - val_loss: 0.8594 - val_accuracy: 0.8187\n",
            "Epoch 3/30\n",
            "253/253 [==============================] - 1s 4ms/step - loss: 0.3565 - accuracy: 0.9207 - val_loss: 0.8854 - val_accuracy: 0.8242\n",
            "Epoch 4/30\n",
            "253/253 [==============================] - 1s 4ms/step - loss: 0.2501 - accuracy: 0.9420 - val_loss: 0.9227 - val_accuracy: 0.8076\n",
            "Epoch 5/30\n",
            "253/253 [==============================] - 1s 4ms/step - loss: 0.2058 - accuracy: 0.9508 - val_loss: 0.9575 - val_accuracy: 0.8087\n",
            "Epoch 6/30\n",
            "253/253 [==============================] - 1s 4ms/step - loss: 0.1884 - accuracy: 0.9542 - val_loss: 0.9610 - val_accuracy: 0.8131\n",
            "Epoch 7/30\n",
            "253/253 [==============================] - 1s 4ms/step - loss: 0.1646 - accuracy: 0.9560 - val_loss: 0.9893 - val_accuracy: 0.8065\n",
            "Epoch 8/30\n",
            "253/253 [==============================] - 1s 4ms/step - loss: 0.1631 - accuracy: 0.9571 - val_loss: 1.0177 - val_accuracy: 0.8031\n",
            "Epoch 9/30\n",
            "253/253 [==============================] - 1s 4ms/step - loss: 0.1693 - accuracy: 0.9552 - val_loss: 1.0063 - val_accuracy: 0.8087\n",
            "Epoch 10/30\n",
            "253/253 [==============================] - 1s 5ms/step - loss: 0.1498 - accuracy: 0.9582 - val_loss: 1.0381 - val_accuracy: 0.7964\n",
            "Epoch 11/30\n",
            "253/253 [==============================] - 1s 6ms/step - loss: 0.1471 - accuracy: 0.9599 - val_loss: 1.0874 - val_accuracy: 0.8042\n",
            "Epoch 12/30\n",
            "253/253 [==============================] - 1s 4ms/step - loss: 0.1436 - accuracy: 0.9605 - val_loss: 1.0940 - val_accuracy: 0.8020\n",
            "Epoch 13/30\n",
            "253/253 [==============================] - 1s 4ms/step - loss: 0.1491 - accuracy: 0.9594 - val_loss: 1.0856 - val_accuracy: 0.8031\n",
            "Epoch 14/30\n",
            "253/253 [==============================] - 1s 4ms/step - loss: 0.1412 - accuracy: 0.9594 - val_loss: 1.1062 - val_accuracy: 0.7931\n",
            "Epoch 15/30\n",
            "253/253 [==============================] - 1s 4ms/step - loss: 0.1382 - accuracy: 0.9602 - val_loss: 1.1265 - val_accuracy: 0.8009\n",
            "Epoch 16/30\n",
            "253/253 [==============================] - 1s 4ms/step - loss: 0.1384 - accuracy: 0.9610 - val_loss: 1.1626 - val_accuracy: 0.7964\n",
            "Epoch 17/30\n",
            "253/253 [==============================] - 1s 4ms/step - loss: 0.1384 - accuracy: 0.9619 - val_loss: 1.1828 - val_accuracy: 0.8065\n",
            "Epoch 18/30\n",
            "253/253 [==============================] - 1s 4ms/step - loss: 0.1320 - accuracy: 0.9620 - val_loss: 1.1983 - val_accuracy: 0.7942\n",
            "Epoch 19/30\n",
            "253/253 [==============================] - 1s 4ms/step - loss: 0.1282 - accuracy: 0.9649 - val_loss: 1.2593 - val_accuracy: 0.7964\n",
            "Epoch 20/30\n",
            "253/253 [==============================] - 1s 4ms/step - loss: 0.1297 - accuracy: 0.9592 - val_loss: 1.2833 - val_accuracy: 0.7964\n",
            "Epoch 21/30\n",
            "253/253 [==============================] - 1s 5ms/step - loss: 0.1289 - accuracy: 0.9630 - val_loss: 1.2948 - val_accuracy: 0.7887\n",
            "Epoch 22/30\n",
            "253/253 [==============================] - 1s 6ms/step - loss: 0.1302 - accuracy: 0.9623 - val_loss: 1.2915 - val_accuracy: 0.7953\n",
            "Epoch 23/30\n",
            "253/253 [==============================] - 1s 5ms/step - loss: 0.1196 - accuracy: 0.9645 - val_loss: 1.3590 - val_accuracy: 0.7953\n",
            "Epoch 24/30\n",
            "253/253 [==============================] - 1s 4ms/step - loss: 0.1274 - accuracy: 0.9612 - val_loss: 1.2652 - val_accuracy: 0.8009\n",
            "Epoch 25/30\n",
            "253/253 [==============================] - 1s 4ms/step - loss: 0.1304 - accuracy: 0.9614 - val_loss: 1.3429 - val_accuracy: 0.7964\n",
            "Epoch 26/30\n",
            "253/253 [==============================] - 1s 4ms/step - loss: 0.1191 - accuracy: 0.9639 - val_loss: 1.4413 - val_accuracy: 0.7798\n",
            "Epoch 27/30\n",
            "253/253 [==============================] - 1s 4ms/step - loss: 0.1307 - accuracy: 0.9621 - val_loss: 1.3292 - val_accuracy: 0.7976\n",
            "Epoch 28/30\n",
            "253/253 [==============================] - 1s 4ms/step - loss: 0.1109 - accuracy: 0.9654 - val_loss: 1.4005 - val_accuracy: 0.7931\n",
            "Epoch 29/30\n",
            "253/253 [==============================] - 1s 4ms/step - loss: 0.1177 - accuracy: 0.9628 - val_loss: 1.3813 - val_accuracy: 0.7998\n",
            "Epoch 30/30\n",
            "253/253 [==============================] - 1s 4ms/step - loss: 0.1256 - accuracy: 0.9603 - val_loss: 1.4232 - val_accuracy: 0.7898\n"
          ]
        }
      ]
    },
    {
      "cell_type": "code",
      "source": [
        "score_2_2 = model_v2.evaluate(x_test_vec, y_test_onehot,\n",
        "                              batch_size=32, verbose=1)\n",
        "print('Test score:', score_2_2[0])\n",
        "print('Test accuracy:', score_2_2[1])\n",
        "\n",
        "plt.figure(figsize=(7, 7), dpi=80, facecolor='w', edgecolor='k')\n",
        "plt.plot(history_1.history['accuracy'], '-', linewidth=2)\n",
        "plt.plot(history_2.history['accuracy'], '-.', linewidth=2)\n",
        "plt.plot(history_2_2.history['accuracy'], '--', linewidth=2)\n",
        "plt.title('model accuracy')\n",
        "plt.ylabel('accuracy')\n",
        "plt.xlabel('epoch')\n",
        "plt.legend(['v1', 'v2', 'v2_2'], loc='upper left')\n",
        "plt.show()\n",
        "\n",
        "plt.figure(figsize=(7, 7), dpi=80, facecolor='w', edgecolor='k')\n",
        "plt.plot(history_1.history['val_accuracy'], '-', linewidth=2)\n",
        "plt.plot(history_2.history['val_accuracy'], '-.', linewidth=2)\n",
        "plt.plot(history_2_2.history['val_accuracy'], '--', linewidth=2)\n",
        "plt.title('model validation accuracy')\n",
        "plt.ylabel('accuracy')\n",
        "plt.xlabel('epoch')\n",
        "plt.legend(['v1', 'v2', 'v2_2'], loc='upper left')\n",
        "plt.show()"
      ],
      "metadata": {
        "colab": {
          "base_uri": "https://localhost:8080/",
          "height": 1000
        },
        "id": "l3CYf5AQzns5",
        "outputId": "8f3bfbbd-99ef-43ca-877f-dcca9891d036"
      },
      "execution_count": null,
      "outputs": [
        {
          "output_type": "stream",
          "name": "stdout",
          "text": [
            "71/71 [==============================] - 0s 3ms/step - loss: 1.3519 - accuracy: 0.7947\n",
            "Test score: 1.3518953323364258\n",
            "Test accuracy: 0.7947462201118469\n"
          ]
        },
        {
          "output_type": "display_data",
          "data": {
            "text/plain": [
              "<Figure size 560x560 with 1 Axes>"
            ],
            "image/png": "[encoded data removed]"
          },
          "metadata": {}
        },
        {
          "output_type": "display_data",
          "data": {
            "text/plain": [
              "<Figure size 560x560 with 1 Axes>"
            ],
            "image/png": "[encoded data removed]"
          },
          "metadata": {}
        }
      ]
    },
    {
      "cell_type": "code",
      "source": [
        "import numpy as np\n",
        "\n",
        "def pad_sequences(sequences, maxlen=None, dtype='int32', padding='pre', truncating='pre', value=0.0):\n",
        "    lengths = [len(s) for s in sequences]\n",
        "\n",
        "    nb_samples = len(sequences)\n",
        "    if maxlen is None:\n",
        "        maxlen = np.max(lengths)\n",
        "\n",
        "    # take the sample shape from the first non empty sequence\n",
        "    # checking for consistency in the main loop below.\n",
        "    sample_shape = tuple()\n",
        "    for s in sequences:\n",
        "        if len(s) > 0:\n",
        "            sample_shape = np.asarray(s).shape[1:]\n",
        "            break\n",
        "\n",
        "    x = (np.ones((nb_samples, maxlen) + sample_shape) * value).astype(dtype)\n",
        "    for idx, s in enumerate(sequences):\n",
        "        if len(s) == 0:\n",
        "            continue  # empty list was found\n",
        "        if truncating == 'pre':\n",
        "            trunc = s[-maxlen:]\n",
        "        elif truncating == 'post':\n",
        "            trunc = s[:maxlen]\n",
        "        else:\n",
        "            raise ValueError('Truncating type \"%s\" not understood' % truncating)\n",
        "\n",
        "        # check `trunc` has expected shape\n",
        "        trunc = np.asarray(trunc, dtype=dtype)\n",
        "        if trunc.shape[1:] != sample_shape:\n",
        "            raise ValueError('Shape of sample %s of sequence at position %s is different from expected shape %s' %\n",
        "                             (trunc.shape[1:], idx, sample_shape))\n",
        "\n",
        "        if padding == 'post':\n",
        "            x[idx, :len(trunc)] = trunc\n",
        "        elif padding == 'pre':\n",
        "            x[idx, -len(trunc):] = trunc\n",
        "        else:\n",
        "            raise ValueError('Padding type \"%s\" not understood' % padding)\n",
        "    return x\n"
      ],
      "metadata": {
        "id": "HOXcBtf5Ck6M"
      },
      "execution_count": null,
      "outputs": []
    },
    {
      "cell_type": "code",
      "source": [
        "from keras.layers import Embedding, LSTM\n",
        "from keras.optimizers import Adam\n",
        "from keras.preprocessing import sequence\n",
        "\n",
        "num_words = 10000\n",
        "max_words = 96\n",
        "batch_size = 256\n",
        "epochs = 30\n",
        "\n",
        "def get_lstm_model(input_shape):\n",
        "  inputs = Input(shape=(input_shape,))\n",
        "  inputs_emb = Embedding(num_words, input_shape)(inputs)\n",
        "  hidden2 = LSTM(96, dropout=0.3, recurrent_dropout=0.3, return_sequences=False, activation='tanh')(inputs_emb)\n",
        "  outputs = Dense(46, activation='softmax')(hidden2)\n",
        "  model = Model(inputs=inputs, outputs=outputs)\n",
        "\n",
        "  return model\n",
        "\n",
        "(x_train, y_trian), (x_test, y_test) = reuters.load_data(num_words=num_words, test_split=0.2)\n",
        "\n",
        "y_train_onehot = to_categorical(y_train)\n",
        "y_test_onehot = to_categorical(y_test)\n",
        "\n",
        "x_train_seq = pad_sequences(x_train, maxlen=max_words, padding='post', truncating='post')\n",
        "x_test_seq = pad_sequences(x_test, maxlen=max_words, padding='post', truncating='post')\n",
        "\n",
        "_adam = Adam(lr=0.001)\n",
        "\n",
        "model_v3 = get_lstm_model(max_words)\n",
        "model_v3.compile(loss='categorical_crossentropy',\n",
        "                 optimizer=_adam,\n",
        "                 metrics=['accuracy'])\n",
        "model_v3.summary()"
      ],
      "metadata": {
        "colab": {
          "base_uri": "https://localhost:8080/"
        },
        "id": "g5tMtjVi4jF5",
        "outputId": "f09811c3-b32e-4a7d-b4a1-a5c3d97394f9"
      },
      "execution_count": null,
      "outputs": [
        {
          "output_type": "stream",
          "name": "stderr",
          "text": [
            "/usr/local/lib/python3.8/dist-packages/keras/optimizers/optimizer_v2/adam.py:117: UserWarning: The `lr` argument is deprecated, use `learning_rate` instead.\n",
            "  super().__init__(name, **kwargs)\n",
            "WARNING:tensorflow:Layer lstm will not use cuDNN kernels since it doesn't meet the criteria. It will use a generic GPU kernel as fallback when running on GPU.\n"
          ]
        },
        {
          "output_type": "stream",
          "name": "stdout",
          "text": [
            "Model: \"model_3\"\n",
            "_________________________________________________________________\n",
            " Layer (type)                Output Shape              Param #   \n",
            "=================================================================\n",
            " input_4 (InputLayer)        [(None, 96)]              0         \n",
            "                                                                 \n",
            " embedding (Embedding)       (None, 96, 96)            960000    \n",
            "                                                                 \n",
            " lstm (LSTM)                 (None, 96)                74112     \n",
            "                                                                 \n",
            " dense_5 (Dense)             (None, 46)                4462      \n",
            "                                                                 \n",
            "=================================================================\n",
            "Total params: 1,038,574\n",
            "Trainable params: 1,038,574\n",
            "Non-trainable params: 0\n",
            "_________________________________________________________________\n"
          ]
        }
      ]
    },
    {
      "cell_type": "code",
      "source": [
        "history_3 = model_v3.fit(x_train_seq, y_train_onehot,\n",
        "                         batch_size=batch_size,\n",
        "                         epochs=epochs,\n",
        "                         verbose=1,\n",
        "                         validation_split=0.1)"
      ],
      "metadata": {
        "colab": {
          "base_uri": "https://localhost:8080/"
        },
        "id": "R_4G8wZXC15U",
        "outputId": "d2990fe8-cff2-47d0-bc51-11d5d79abbb3"
      },
      "execution_count": null,
      "outputs": [
        {
          "output_type": "stream",
          "name": "stdout",
          "text": [
            "Epoch 1/30\n",
            "32/32 [==============================] - 19s 507ms/step - loss: 2.9644 - accuracy: 0.3342 - val_loss: 2.4524 - val_accuracy: 0.3315\n",
            "Epoch 2/30\n",
            "32/32 [==============================] - 17s 524ms/step - loss: 2.3318 - accuracy: 0.3688 - val_loss: 2.3233 - val_accuracy: 0.3515\n",
            "Epoch 3/30\n",
            "32/32 [==============================] - 16s 494ms/step - loss: 2.1684 - accuracy: 0.3860 - val_loss: 2.2094 - val_accuracy: 0.3726\n",
            "Epoch 4/30\n",
            "32/32 [==============================] - 16s 487ms/step - loss: 2.0586 - accuracy: 0.3904 - val_loss: 2.0376 - val_accuracy: 0.3771\n",
            "Epoch 5/30\n",
            "32/32 [==============================] - 16s 489ms/step - loss: 2.1914 - accuracy: 0.4357 - val_loss: 2.1116 - val_accuracy: 0.4750\n",
            "Epoch 6/30\n",
            "32/32 [==============================] - 16s 516ms/step - loss: 2.0022 - accuracy: 0.4855 - val_loss: 2.0366 - val_accuracy: 0.4828\n",
            "Epoch 7/30\n",
            "32/32 [==============================] - 15s 473ms/step - loss: 1.9174 - accuracy: 0.5055 - val_loss: 2.0334 - val_accuracy: 0.4816\n",
            "Epoch 8/30\n",
            "32/32 [==============================] - 15s 471ms/step - loss: 2.0753 - accuracy: 0.4412 - val_loss: 2.1194 - val_accuracy: 0.4783\n",
            "Epoch 9/30\n",
            "32/32 [==============================] - 15s 481ms/step - loss: 2.0371 - accuracy: 0.4819 - val_loss: 2.1238 - val_accuracy: 0.4716\n",
            "Epoch 10/30\n",
            "32/32 [==============================] - 17s 525ms/step - loss: 2.0285 - accuracy: 0.4805 - val_loss: 2.0948 - val_accuracy: 0.4761\n",
            "Epoch 11/30\n",
            "32/32 [==============================] - 15s 486ms/step - loss: 1.9903 - accuracy: 0.4862 - val_loss: 2.0740 - val_accuracy: 0.4772\n",
            "Epoch 12/30\n",
            "32/32 [==============================] - 16s 489ms/step - loss: 1.9369 - accuracy: 0.4923 - val_loss: 1.9651 - val_accuracy: 0.4894\n",
            "Epoch 13/30\n",
            "32/32 [==============================] - 16s 515ms/step - loss: 1.8264 - accuracy: 0.5247 - val_loss: 1.8946 - val_accuracy: 0.5017\n",
            "Epoch 14/30\n",
            "32/32 [==============================] - 16s 489ms/step - loss: 1.7664 - accuracy: 0.5406 - val_loss: 1.8921 - val_accuracy: 0.5328\n",
            "Epoch 15/30\n",
            "32/32 [==============================] - 15s 483ms/step - loss: 1.7365 - accuracy: 0.5534 - val_loss: 1.8235 - val_accuracy: 0.5295\n",
            "Epoch 16/30\n",
            "32/32 [==============================] - 15s 462ms/step - loss: 1.7072 - accuracy: 0.5550 - val_loss: 1.8249 - val_accuracy: 0.5395\n",
            "Epoch 17/30\n",
            "32/32 [==============================] - 16s 514ms/step - loss: 1.6775 - accuracy: 0.5712 - val_loss: 1.8621 - val_accuracy: 0.5228\n",
            "Epoch 18/30\n",
            "32/32 [==============================] - 15s 457ms/step - loss: 1.6622 - accuracy: 0.5719 - val_loss: 1.7842 - val_accuracy: 0.5417\n",
            "Epoch 19/30\n",
            "32/32 [==============================] - 15s 468ms/step - loss: 1.7006 - accuracy: 0.5905 - val_loss: 1.7877 - val_accuracy: 0.5840\n",
            "Epoch 20/30\n",
            "32/32 [==============================] - 15s 470ms/step - loss: 1.6111 - accuracy: 0.6066 - val_loss: 1.7682 - val_accuracy: 0.5673\n",
            "Epoch 21/30\n",
            "32/32 [==============================] - 16s 487ms/step - loss: 1.7074 - accuracy: 0.5810 - val_loss: 1.9724 - val_accuracy: 0.5284\n",
            "Epoch 22/30\n",
            "32/32 [==============================] - 16s 479ms/step - loss: 1.6168 - accuracy: 0.6079 - val_loss: 1.6871 - val_accuracy: 0.5829\n",
            "Epoch 23/30\n",
            "32/32 [==============================] - 15s 467ms/step - loss: 1.4748 - accuracy: 0.6434 - val_loss: 1.7647 - val_accuracy: 0.5729\n",
            "Epoch 24/30\n",
            "32/32 [==============================] - 15s 471ms/step - loss: 1.4464 - accuracy: 0.6478 - val_loss: 1.6661 - val_accuracy: 0.6151\n",
            "Epoch 25/30\n",
            "32/32 [==============================] - 15s 472ms/step - loss: 1.3964 - accuracy: 0.6649 - val_loss: 1.6411 - val_accuracy: 0.5962\n",
            "Epoch 26/30\n",
            "32/32 [==============================] - 16s 505ms/step - loss: 1.3440 - accuracy: 0.6750 - val_loss: 1.5685 - val_accuracy: 0.6407\n",
            "Epoch 27/30\n",
            "32/32 [==============================] - 15s 481ms/step - loss: 1.2770 - accuracy: 0.6917 - val_loss: 1.5529 - val_accuracy: 0.6485\n",
            "Epoch 28/30\n",
            "32/32 [==============================] - 15s 475ms/step - loss: 1.2425 - accuracy: 0.6989 - val_loss: 1.5450 - val_accuracy: 0.6496\n",
            "Epoch 29/30\n",
            "32/32 [==============================] - 15s 476ms/step - loss: 1.1772 - accuracy: 0.7091 - val_loss: 1.5154 - val_accuracy: 0.6552\n",
            "Epoch 30/30\n",
            "32/32 [==============================] - 16s 496ms/step - loss: 1.1446 - accuracy: 0.7133 - val_loss: 1.5381 - val_accuracy: 0.6507\n"
          ]
        }
      ]
    },
    {
      "cell_type": "code",
      "source": [
        "score_3 = model_v3.evaluate(x_test_seq, y_test_onehot,\n",
        "                            batch_size=32, verbose=1)\n",
        "print('Test score:', score_3[0])\n",
        "print('Test accuracy:', score_3[1])"
      ],
      "metadata": {
        "colab": {
          "base_uri": "https://localhost:8080/"
        },
        "id": "_dztqMQLDdu7",
        "outputId": "c2741ba6-8d4d-4eb1-8865-d1d94aefc8e7"
      },
      "execution_count": null,
      "outputs": [
        {
          "output_type": "stream",
          "name": "stdout",
          "text": [
            "71/71 [==============================] - 2s 30ms/step - loss: 1.4959 - accuracy: 0.6536\n",
            "Test score: 1.4959352016448975\n",
            "Test accuracy: 0.6536064147949219\n"
          ]
        }
      ]
    },
    {
      "cell_type": "code",
      "source": [
        "from keras.layers import Bidirectional\n",
        "\n",
        "def get_bilstm_model(input_shape):\n",
        "  inputs = Input(shape=(input_shape,))\n",
        "  inputs_emb = Embedding(num_words, input_shape)(inputs)\n",
        "  hidden2 = Bidirectional(LSTM(96, dropout=0.3,\n",
        "                               recurrent_dropout=0.3, return_sequences=False,\n",
        "                               activation='tanh'))(inputs_emb)\n",
        "  outputs = Dense(46, activation='softmax')(hidden2)\n",
        "  model = Model(inputs=inputs, outputs=outputs)\n",
        "\n",
        "  return model\n",
        "\n",
        "model_v4 = get_bilstm_model(max_words)\n",
        "model_v4.compile(loss='categorical_crossentropy',\n",
        "                 optimizer=_adam,\n",
        "                 metrics=['accuracy'])\n",
        "model_v4.summary()\n",
        "\n",
        "history_4 = model_v4.fit(x_train_seq, y_train_onehot,\n",
        "                         batch_size=batch_size,\n",
        "                         epochs=epochs,\n",
        "                         verbose=1,\n",
        "                         validation_split=0.1)"
      ],
      "metadata": {
        "id": "oCLpYSksCxIJ",
        "colab": {
          "base_uri": "https://localhost:8080/"
        },
        "outputId": "f8660aa1-c77f-4447-cb03-a3bd9208c1cd"
      },
      "execution_count": null,
      "outputs": [
        {
          "output_type": "stream",
          "name": "stderr",
          "text": [
            "WARNING:tensorflow:Layer lstm_1 will not use cuDNN kernels since it doesn't meet the criteria. It will use a generic GPU kernel as fallback when running on GPU.\n",
            "WARNING:tensorflow:Layer lstm_1 will not use cuDNN kernels since it doesn't meet the criteria. It will use a generic GPU kernel as fallback when running on GPU.\n",
            "WARNING:tensorflow:Layer lstm_1 will not use cuDNN kernels since it doesn't meet the criteria. It will use a generic GPU kernel as fallback when running on GPU.\n"
          ]
        },
        {
          "output_type": "stream",
          "name": "stdout",
          "text": [
            "Model: \"model_4\"\n",
            "_________________________________________________________________\n",
            " Layer (type)                Output Shape              Param #   \n",
            "=================================================================\n",
            " input_5 (InputLayer)        [(None, 96)]              0         \n",
            "                                                                 \n",
            " embedding_1 (Embedding)     (None, 96, 96)            960000    \n",
            "                                                                 \n",
            " bidirectional (Bidirectiona  (None, 192)              148224    \n",
            " l)                                                              \n",
            "                                                                 \n",
            " dense_6 (Dense)             (None, 46)                8878      \n",
            "                                                                 \n",
            "=================================================================\n",
            "Total params: 1,117,102\n",
            "Trainable params: 1,117,102\n",
            "Non-trainable params: 0\n",
            "_________________________________________________________________\n",
            "Epoch 1/30\n",
            "32/32 [==============================] - 35s 952ms/step - loss: 2.2864 - accuracy: 0.4313 - val_loss: 1.7005 - val_accuracy: 0.5873\n",
            "Epoch 2/30\n",
            "32/32 [==============================] - 32s 988ms/step - loss: 1.4812 - accuracy: 0.6456 - val_loss: 1.3730 - val_accuracy: 0.6730\n",
            "Epoch 3/30\n",
            "32/32 [==============================] - 32s 1s/step - loss: 1.1553 - accuracy: 0.7156 - val_loss: 1.2722 - val_accuracy: 0.6930\n",
            "Epoch 4/30\n",
            "32/32 [==============================] - 31s 975ms/step - loss: 0.9234 - accuracy: 0.7687 - val_loss: 1.1897 - val_accuracy: 0.7186\n",
            "Epoch 5/30\n",
            "32/32 [==============================] - 33s 1s/step - loss: 0.7486 - accuracy: 0.8184 - val_loss: 1.1142 - val_accuracy: 0.7408\n",
            "Epoch 6/30\n",
            "32/32 [==============================] - 32s 1s/step - loss: 0.6124 - accuracy: 0.8539 - val_loss: 1.1008 - val_accuracy: 0.7453\n",
            "Epoch 7/30\n",
            "32/32 [==============================] - 32s 991ms/step - loss: 0.5149 - accuracy: 0.8785 - val_loss: 1.0864 - val_accuracy: 0.7575\n",
            "Epoch 8/30\n",
            "32/32 [==============================] - 32s 988ms/step - loss: 0.4466 - accuracy: 0.8945 - val_loss: 1.0678 - val_accuracy: 0.7631\n",
            "Epoch 9/30\n",
            "32/32 [==============================] - 31s 965ms/step - loss: 0.3789 - accuracy: 0.9134 - val_loss: 1.0957 - val_accuracy: 0.7686\n",
            "Epoch 10/30\n",
            "32/32 [==============================] - 31s 982ms/step - loss: 0.3366 - accuracy: 0.9222 - val_loss: 1.1103 - val_accuracy: 0.7709\n",
            "Epoch 11/30\n",
            "32/32 [==============================] - 29s 913ms/step - loss: 0.3007 - accuracy: 0.9312 - val_loss: 1.1217 - val_accuracy: 0.7631\n",
            "Epoch 12/30\n",
            "32/32 [==============================] - 31s 964ms/step - loss: 0.2698 - accuracy: 0.9369 - val_loss: 1.1617 - val_accuracy: 0.7564\n",
            "Epoch 13/30\n",
            "32/32 [==============================] - 31s 952ms/step - loss: 0.2445 - accuracy: 0.9416 - val_loss: 1.1326 - val_accuracy: 0.7620\n",
            "Epoch 14/30\n",
            "32/32 [==============================] - 33s 1s/step - loss: 0.2253 - accuracy: 0.9462 - val_loss: 1.1530 - val_accuracy: 0.7686\n",
            "Epoch 15/30\n",
            "32/32 [==============================] - 32s 969ms/step - loss: 0.1982 - accuracy: 0.9518 - val_loss: 1.1736 - val_accuracy: 0.7720\n",
            "Epoch 16/30\n",
            "32/32 [==============================] - 32s 988ms/step - loss: 0.1936 - accuracy: 0.9529 - val_loss: 1.1669 - val_accuracy: 0.7709\n",
            "Epoch 17/30\n",
            "32/32 [==============================] - 29s 907ms/step - loss: 0.1709 - accuracy: 0.9586 - val_loss: 1.1890 - val_accuracy: 0.7720\n",
            "Epoch 18/30\n",
            "32/32 [==============================] - 30s 938ms/step - loss: 0.1634 - accuracy: 0.9573 - val_loss: 1.2161 - val_accuracy: 0.7697\n",
            "Epoch 19/30\n",
            "32/32 [==============================] - 28s 889ms/step - loss: 0.1519 - accuracy: 0.9576 - val_loss: 1.2379 - val_accuracy: 0.7620\n",
            "Epoch 20/30\n",
            "32/32 [==============================] - 29s 912ms/step - loss: 0.1448 - accuracy: 0.9593 - val_loss: 1.2560 - val_accuracy: 0.7586\n",
            "Epoch 21/30\n",
            "32/32 [==============================] - 30s 932ms/step - loss: 0.1418 - accuracy: 0.9594 - val_loss: 1.2655 - val_accuracy: 0.7697\n",
            "Epoch 22/30\n",
            "32/32 [==============================] - 29s 902ms/step - loss: 0.1326 - accuracy: 0.9609 - val_loss: 1.3013 - val_accuracy: 0.7664\n",
            "Epoch 23/30\n",
            "32/32 [==============================] - 30s 937ms/step - loss: 0.1336 - accuracy: 0.9605 - val_loss: 1.2784 - val_accuracy: 0.7597\n",
            "Epoch 24/30\n",
            "32/32 [==============================] - 30s 950ms/step - loss: 0.1236 - accuracy: 0.9635 - val_loss: 1.3121 - val_accuracy: 0.7642\n",
            "Epoch 25/30\n",
            "32/32 [==============================] - 31s 974ms/step - loss: 0.1256 - accuracy: 0.9615 - val_loss: 1.3245 - val_accuracy: 0.7642\n",
            "Epoch 26/30\n",
            "32/32 [==============================] - 33s 1s/step - loss: 0.1207 - accuracy: 0.9613 - val_loss: 1.3345 - val_accuracy: 0.7664\n",
            "Epoch 27/30\n",
            "32/32 [==============================] - 32s 1s/step - loss: 0.1127 - accuracy: 0.9620 - val_loss: 1.3411 - val_accuracy: 0.7608\n",
            "Epoch 28/30\n",
            "32/32 [==============================] - 31s 980ms/step - loss: 0.1138 - accuracy: 0.9612 - val_loss: 1.3355 - val_accuracy: 0.7608\n",
            "Epoch 29/30\n",
            "32/32 [==============================] - 32s 1s/step - loss: 0.1067 - accuracy: 0.9636 - val_loss: 1.3902 - val_accuracy: 0.7553\n",
            "Epoch 30/30\n",
            "32/32 [==============================] - 31s 959ms/step - loss: 0.0994 - accuracy: 0.9631 - val_loss: 1.3709 - val_accuracy: 0.7631\n"
          ]
        }
      ]
    },
    {
      "cell_type": "code",
      "source": [
        "score_4 = model_v4.evaluate(x_test_seq, y_test_onehot,\n",
        "                            batch_size=32, verbose=1)\n",
        "print('Test score:', score_3[0])\n",
        "print('Test accuracy:', score_3[1])"
      ],
      "metadata": {
        "colab": {
          "base_uri": "https://localhost:8080/"
        },
        "id": "vH0srySdXur_",
        "outputId": "a919a45e-aefc-41e6-be8c-f2c26742c39c"
      },
      "execution_count": null,
      "outputs": [
        {
          "output_type": "stream",
          "name": "stdout",
          "text": [
            "71/71 [==============================] - 5s 75ms/step - loss: 1.3046 - accuracy: 0.7716\n",
            "Test score: 1.4959352016448975\n",
            "Test accuracy: 0.6536064147949219\n"
          ]
        }
      ]
    },
    {
      "cell_type": "code",
      "source": [
        "from keras.layers import Conv1D, MaxPooling1D\n",
        "def get_cnn_lstm_model(input_shape):\n",
        "  inputs = Input(shape=(input_shape,))\n",
        "  inputs_emb = Embedding(num_words, input_shape)(inputs)\n",
        "  conv_1 = Conv1D(48, 3, padding='same',\n",
        "                  activation='relu')(inputs_emb)\n",
        "  pool_1 = MaxPooling1D(pool_size=3)(conv_1)\n",
        "  drop_1 = Dropout(0.25)(pool_1)\n",
        "  lstm_2 = Bidirectional(LSTM(48, dropout=0.3,\n",
        "                              recurrent_dropout=0.3, return_sequences=False,\n",
        "                              activation='tanh'))(drop_1)\n",
        "  outputs = Dense(46, activation='softmax')(lstm_2)\n",
        "  model = Model(inputs=inputs, outputs=outputs)\n",
        "\n",
        "  return model\n",
        "\n",
        "model_v5 = get_cnn_lstm_model(max_words)\n",
        "model_v5.compile(loss='categorical_crossentropy',\n",
        "                 optimizer=_adam,\n",
        "                 metrics=['accuracy'])\n",
        "model_v5.summary()\n",
        "\n",
        "history_5 = model_v5.fit(x_train_seq, y_train_onehot,\n",
        "                         batch_size=batch_size,\n",
        "                         epochs=epochs,\n",
        "                         verbose=1,\n",
        "                         validation_split=0.1)\n"
      ],
      "metadata": {
        "id": "lM7nWdrArQH2",
        "colab": {
          "base_uri": "https://localhost:8080/"
        },
        "outputId": "045088ff-acc7-41e5-9a2e-7f7ba9a9ff25"
      },
      "execution_count": null,
      "outputs": [
        {
          "output_type": "stream",
          "name": "stderr",
          "text": [
            "WARNING:tensorflow:Layer lstm_2 will not use cuDNN kernels since it doesn't meet the criteria. It will use a generic GPU kernel as fallback when running on GPU.\n",
            "WARNING:tensorflow:Layer lstm_2 will not use cuDNN kernels since it doesn't meet the criteria. It will use a generic GPU kernel as fallback when running on GPU.\n",
            "WARNING:tensorflow:Layer lstm_2 will not use cuDNN kernels since it doesn't meet the criteria. It will use a generic GPU kernel as fallback when running on GPU.\n"
          ]
        },
        {
          "output_type": "stream",
          "name": "stdout",
          "text": [
            "Model: \"model_5\"\n",
            "_________________________________________________________________\n",
            " Layer (type)                Output Shape              Param #   \n",
            "=================================================================\n",
            " input_6 (InputLayer)        [(None, 96)]              0         \n",
            "                                                                 \n",
            " embedding_2 (Embedding)     (None, 96, 96)            960000    \n",
            "                                                                 \n",
            " conv1d (Conv1D)             (None, 96, 48)            13872     \n",
            "                                                                 \n",
            " max_pooling1d (MaxPooling1D  (None, 32, 48)           0         \n",
            " )                                                               \n",
            "                                                                 \n",
            " dropout_2 (Dropout)         (None, 32, 48)            0         \n",
            "                                                                 \n",
            " bidirectional_1 (Bidirectio  (None, 96)               37248     \n",
            " nal)                                                            \n",
            "                                                                 \n",
            " dense_7 (Dense)             (None, 46)                4462      \n",
            "                                                                 \n",
            "=================================================================\n",
            "Total params: 1,015,582\n",
            "Trainable params: 1,015,582\n",
            "Non-trainable params: 0\n",
            "_________________________________________________________________\n",
            "Epoch 1/30\n",
            "32/32 [==============================] - 24s 400ms/step - loss: 2.3316 - accuracy: 0.4331 - val_loss: 1.7696 - val_accuracy: 0.5695\n",
            "Epoch 2/30\n",
            "32/32 [==============================] - 12s 372ms/step - loss: 1.5877 - accuracy: 0.6094 - val_loss: 1.5911 - val_accuracy: 0.6196\n",
            "Epoch 3/30\n",
            "32/32 [==============================] - 12s 363ms/step - loss: 1.3660 - accuracy: 0.6698 - val_loss: 1.4481 - val_accuracy: 0.6696\n",
            "Epoch 4/30\n",
            "32/32 [==============================] - 12s 356ms/step - loss: 1.1345 - accuracy: 0.7279 - val_loss: 1.3424 - val_accuracy: 0.6941\n",
            "Epoch 5/30\n",
            "32/32 [==============================] - 11s 344ms/step - loss: 0.9635 - accuracy: 0.7647 - val_loss: 1.3017 - val_accuracy: 0.7075\n",
            "Epoch 6/30\n",
            "32/32 [==============================] - 12s 375ms/step - loss: 0.8336 - accuracy: 0.8024 - val_loss: 1.2636 - val_accuracy: 0.7186\n",
            "Epoch 7/30\n",
            "32/32 [==============================] - 12s 375ms/step - loss: 0.7462 - accuracy: 0.8205 - val_loss: 1.2709 - val_accuracy: 0.7264\n",
            "Epoch 8/30\n",
            "32/32 [==============================] - 12s 378ms/step - loss: 0.6784 - accuracy: 0.8353 - val_loss: 1.2846 - val_accuracy: 0.7275\n",
            "Epoch 9/30\n",
            "32/32 [==============================] - 12s 382ms/step - loss: 0.6158 - accuracy: 0.8512 - val_loss: 1.3085 - val_accuracy: 0.7275\n",
            "Epoch 10/30\n",
            "32/32 [==============================] - 12s 376ms/step - loss: 0.5699 - accuracy: 0.8627 - val_loss: 1.3029 - val_accuracy: 0.7319\n",
            "Epoch 11/30\n",
            "32/32 [==============================] - 12s 389ms/step - loss: 0.5185 - accuracy: 0.8797 - val_loss: 1.3021 - val_accuracy: 0.7253\n",
            "Epoch 12/30\n",
            "32/32 [==============================] - 12s 376ms/step - loss: 0.4859 - accuracy: 0.8870 - val_loss: 1.3251 - val_accuracy: 0.7330\n",
            "Epoch 13/30\n",
            "32/32 [==============================] - 12s 374ms/step - loss: 0.4506 - accuracy: 0.8931 - val_loss: 1.3202 - val_accuracy: 0.7308\n",
            "Epoch 14/30\n",
            "32/32 [==============================] - 12s 381ms/step - loss: 0.4263 - accuracy: 0.8992 - val_loss: 1.3381 - val_accuracy: 0.7297\n",
            "Epoch 15/30\n",
            "32/32 [==============================] - 12s 374ms/step - loss: 0.3877 - accuracy: 0.9081 - val_loss: 1.3497 - val_accuracy: 0.7286\n",
            "Epoch 16/30\n",
            "32/32 [==============================] - 12s 385ms/step - loss: 0.3582 - accuracy: 0.9171 - val_loss: 1.3601 - val_accuracy: 0.7386\n",
            "Epoch 17/30\n",
            "32/32 [==============================] - 12s 383ms/step - loss: 0.3381 - accuracy: 0.9239 - val_loss: 1.3491 - val_accuracy: 0.7297\n",
            "Epoch 18/30\n",
            "32/32 [==============================] - 12s 375ms/step - loss: 0.3231 - accuracy: 0.9265 - val_loss: 1.3762 - val_accuracy: 0.7341\n",
            "Epoch 19/30\n",
            "32/32 [==============================] - 12s 374ms/step - loss: 0.3006 - accuracy: 0.9290 - val_loss: 1.3650 - val_accuracy: 0.7330\n",
            "Epoch 20/30\n",
            "32/32 [==============================] - 12s 369ms/step - loss: 0.2833 - accuracy: 0.9333 - val_loss: 1.3721 - val_accuracy: 0.7330\n",
            "Epoch 21/30\n",
            "32/32 [==============================] - 12s 376ms/step - loss: 0.2709 - accuracy: 0.9368 - val_loss: 1.3930 - val_accuracy: 0.7330\n",
            "Epoch 22/30\n",
            "32/32 [==============================] - 12s 381ms/step - loss: 0.2572 - accuracy: 0.9395 - val_loss: 1.4032 - val_accuracy: 0.7241\n",
            "Epoch 23/30\n",
            "32/32 [==============================] - 12s 382ms/step - loss: 0.2436 - accuracy: 0.9410 - val_loss: 1.4229 - val_accuracy: 0.7275\n",
            "Epoch 24/30\n",
            "32/32 [==============================] - 12s 379ms/step - loss: 0.2383 - accuracy: 0.9431 - val_loss: 1.4003 - val_accuracy: 0.7341\n",
            "Epoch 25/30\n",
            "32/32 [==============================] - 12s 378ms/step - loss: 0.2273 - accuracy: 0.9472 - val_loss: 1.4231 - val_accuracy: 0.7341\n",
            "Epoch 26/30\n",
            "32/32 [==============================] - 11s 337ms/step - loss: 0.2165 - accuracy: 0.9488 - val_loss: 1.4332 - val_accuracy: 0.7275\n",
            "Epoch 27/30\n",
            "32/32 [==============================] - 12s 349ms/step - loss: 0.2050 - accuracy: 0.9515 - val_loss: 1.4362 - val_accuracy: 0.7364\n",
            "Epoch 28/30\n",
            "32/32 [==============================] - 11s 360ms/step - loss: 0.2015 - accuracy: 0.9535 - val_loss: 1.4276 - val_accuracy: 0.7330\n",
            "Epoch 29/30\n",
            "32/32 [==============================] - 12s 363ms/step - loss: 0.1931 - accuracy: 0.9539 - val_loss: 1.4627 - val_accuracy: 0.7275\n",
            "Epoch 30/30\n",
            "32/32 [==============================] - 12s 365ms/step - loss: 0.1903 - accuracy: 0.9524 - val_loss: 1.4705 - val_accuracy: 0.7330\n"
          ]
        }
      ]
    },
    {
      "cell_type": "code",
      "source": [
        "score_5 = model_v5.evaluate(x_test_seq, y_test_onehot,\n",
        "                            batch_size=32, verbose=1)\n",
        "print('Test score:', score_3[0])\n",
        "print('Test accuracy:', score_3[1])"
      ],
      "metadata": {
        "colab": {
          "base_uri": "https://localhost:8080/"
        },
        "id": "r6fhQ25zhYqi",
        "outputId": "53b8d690-cfc4-4444-b525-a8f462038721"
      },
      "execution_count": null,
      "outputs": [
        {
          "output_type": "stream",
          "name": "stdout",
          "text": [
            "71/71 [==============================] - 2s 30ms/step - loss: 1.3624 - accuracy: 0.7418\n",
            "Test score: 1.4959352016448975\n",
            "Test accuracy: 0.6536064147949219\n"
          ]
        }
      ]
    },
    {
      "cell_type": "code",
      "source": [
        "plt.figure(figsize=(7,7), dpi= 80, facecolor='w',\n",
        "           edgecolor='k')\n",
        "plt.plot(history_1.history['val_accuracy'], 'o')\n",
        "plt.plot(history_2.history['val_accuracy'], '^')\n",
        "plt.plot(history_2_2.history['val_accuracy'], 's')\n",
        "plt.plot(history_3.history['val_accuracy'], 'p')\n",
        "plt.plot(history_4.history['val_accuracy'], 'h')\n",
        "plt.plot(history_5.history['val_accuracy'], '*')\n",
        "plt.title('model validation accuracy')\n",
        "plt.ylabel('accuracy')\n",
        "plt.xlabel('epoch')\n",
        "plt.legend(['v1', 'v2', 'v2_2', 'v3', 'v4', 'v5'],\n",
        "           loc='upper left')\n",
        "plt.show()\n"
      ],
      "metadata": {
        "colab": {
          "base_uri": "https://localhost:8080/",
          "height": 504
        },
        "id": "yZluKtpvihyS",
        "outputId": "15da93e6-2c24-4fec-ecb1-37ac2ba0a567"
      },
      "execution_count": null,
      "outputs": [
        {
          "output_type": "display_data",
          "data": {
            "text/plain": [
              "<Figure size 560x560 with 1 Axes>"
            ],
            "image/png": "[encoded data removed]"
          },
          "metadata": {}
        }
      ]
    },
    {
      "cell_type": "code",
      "source": [],
      "metadata": {
        "id": "TSonhKUBvDdh"
      },
      "execution_count": null,
      "outputs": []
    }
  ]
}